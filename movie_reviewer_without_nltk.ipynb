{
 "cells": [
  {
   "cell_type": "code",
   "execution_count": 1,
   "id": "4df99491-f6b3-4ebe-b231-d0025df3988c",
   "metadata": {},
   "outputs": [
    {
     "name": "stderr",
     "output_type": "stream",
     "text": [
      "[nltk_data] Downloading package punkt to\n",
      "[nltk_data]     C:\\Users\\Krishvin\\AppData\\Roaming\\nltk_data...\n",
      "[nltk_data]   Package punkt is already up-to-date!\n",
      "[nltk_data] Downloading package averaged_perceptron_tagger to\n",
      "[nltk_data]     C:\\Users\\Krishvin\\AppData\\Roaming\\nltk_data...\n",
      "[nltk_data]   Package averaged_perceptron_tagger is already up-to-\n",
      "[nltk_data]       date!\n",
      "[nltk_data] Downloading package wordnet to\n",
      "[nltk_data]     C:\\Users\\Krishvin\\AppData\\Roaming\\nltk_data...\n",
      "[nltk_data]   Package wordnet is already up-to-date!\n",
      "[nltk_data] Downloading package omw-1.4 to\n",
      "[nltk_data]     C:\\Users\\Krishvin\\AppData\\Roaming\\nltk_data...\n",
      "[nltk_data]   Package omw-1.4 is already up-to-date!\n"
     ]
    },
    {
     "name": "stdout",
     "output_type": "stream",
     "text": [
      "Original: The striped bats are hanging on their feet for best\n",
      "Lemmatized: The striped bat be hang on their foot for best\n"
     ]
    }
   ],
   "source": [
    "import nltk\n",
    "from nltk import pos_tag, word_tokenize\n",
    "from nltk.corpus import wordnet\n",
    "from nltk.stem import WordNetLemmatizer\n",
    "\n",
    "# Download required resources\n",
    "nltk.download('punkt')\n",
    "nltk.download('averaged_perceptron_tagger')\n",
    "nltk.download('wordnet')\n",
    "nltk.download('omw-1.4')\n",
    "\n",
    "# Helper: Map NLTK POS tags to WordNet POS tags\n",
    "def get_wordnet_pos(treebank_tag):\n",
    "    if treebank_tag.startswith('J'):\n",
    "        return wordnet.ADJ\n",
    "    elif treebank_tag.startswith('V'):\n",
    "        return wordnet.VERB\n",
    "    elif treebank_tag.startswith('N'):\n",
    "        return wordnet.NOUN\n",
    "    elif treebank_tag.startswith('R'):\n",
    "        return wordnet.ADV\n",
    "    else:\n",
    "        return wordnet.NOUN  # default to noun\n",
    "\n",
    "# Lemmatizer\n",
    "lemmatizer = WordNetLemmatizer()\n",
    "\n",
    "# Sentence\n",
    "sentence = \"The striped bats are hanging on their feet for best\"\n",
    "tokens = word_tokenize(sentence)\n",
    "\n",
    "# POS tagging\n",
    "tagged = pos_tag(tokens)\n",
    "\n",
    "# Lemmatize using correct POS\n",
    "lemmatized = [lemmatizer.lemmatize(word, get_wordnet_pos(pos)) for word, pos in tagged]\n",
    "\n",
    "print(\"Original:\", sentence)\n",
    "print(\"Lemmatized:\", \" \".join(lemmatized))\n"
   ]
  },
  {
   "cell_type": "code",
   "execution_count": 2,
   "id": "24361622-d3cd-46ff-a001-cfeb8eb4acb9",
   "metadata": {},
   "outputs": [],
   "source": [
    "stopwords = [\n",
    "    'a', 'about', 'above', 'after', 'again', 'against', 'all', 'am', 'an', 'and', 'any', 'are', \"aren't\", 'as', 'at',\n",
    "    'be', 'because', 'been', 'before', 'being', 'below', 'between', 'both', 'but', 'by',\n",
    "    \"can't\", 'cannot', 'could', \"couldn't\",\n",
    "    'did', \"didn't\", 'do', 'does', \"doesn't\", 'doing', \"don't\", 'down', 'during',\n",
    "    'each',\n",
    "    'few', 'for', 'from', 'further',\n",
    "    'had', \"hadn't\", 'has', \"hasn't\", 'have', \"haven't\", 'having',\n",
    "    'he', \"he'd\", \"he'll\", \"he's\",\n",
    "    'her', 'here', \"here's\", 'hers', 'herself', 'him', 'himself', 'his',\n",
    "    'how', \"how's\",\n",
    "    'i', \"i'd\", \"i'll\", \"i'm\", \"i've\",\n",
    "    'if', 'in', 'into', 'is', \"isn't\", 'it', \"it's\", 'its', 'itself',\n",
    "    \"let's\",\n",
    "    'me', 'more', 'most', \"mustn't\", 'my', 'myself',\n",
    "    'no', 'nor', 'not',\n",
    "    'of', 'off', 'on', 'once', 'only', 'or', 'other', 'ought', 'our', 'ours', 'ourselves', 'out', 'over', 'own',\n",
    "    'same', 'she', \"she'd\", \"she'll\", \"she's\", 'should', \"shouldn't\", 'so', 'some', 'such',\n",
    "    'than', 'that', \"that's\", 'the', 'their', 'theirs', 'them', 'themselves', 'then', 'there', \"there's\", 'these',\n",
    "    'they', \"they'd\", \"they'll\", \"they're\", \"they've\", 'this', 'those', 'through', 'to', 'too',\n",
    "    'under', 'until', 'up',\n",
    "    'very',\n",
    "    'was', \"wasn't\", 'we', \"we'd\", \"we'll\", \"we're\", \"we've\", 'were', \"weren't\",\n",
    "    'what', \"what's\", 'when', \"when's\", 'where', \"where's\", 'which', 'while', 'who', \"who's\", 'whom', 'why', \"why's\",\n",
    "    'will', 'with', \"won't\", 'would', \"wouldn't\",\n",
    "    'you', \"you'd\", \"you'll\", \"you're\", \"you've\", 'your', 'yours', 'yourself', 'yourselves','ve','s'\n",
    "]\n",
    "letter = \"qwertyuiopasdfghjklzxcvbnm\""
   ]
  },
  {
   "cell_type": "code",
   "execution_count": 3,
   "id": "6547046b-0c98-41f0-a8e5-c780942a7698",
   "metadata": {},
   "outputs": [],
   "source": [
    "para = 'Bang! The door—SLAMMED—shut. “Wait... what?!?” she gasped, clutching the glowing key—as time froze: 12:00. Lightning flashed (CRACK!), revealing the message etched into the wall: “#TrustNoOne.” Behind her, a soft click—the unmistakable sound of a lock... or was it a trigger? “You’ve got 3 minutes,” the voice crackled through the intercom—static hissing—“or it’s game over.”'\n"
   ]
  },
  {
   "cell_type": "code",
   "execution_count": 4,
   "id": "74b45a48-a2ee-4e47-a994-d82d86c8efe5",
   "metadata": {},
   "outputs": [],
   "source": [
    "symbols = '`~!@#$%^&*()_-+={[}]|\\\\:;\"\"\\'<>,?/“”—..’9876543210'\n"
   ]
  },
  {
   "cell_type": "code",
   "execution_count": 5,
   "id": "270c14d6-628f-4602-a2eb-7af2dbcb47de",
   "metadata": {},
   "outputs": [],
   "source": [
    "def removeSymbols(para=para):\n",
    "    s=''\n",
    "    for i in para:\n",
    "        #print(i)\n",
    "        if i in symbols:\n",
    "            s+= ' '\n",
    "\n",
    "            \n",
    "            \n",
    "        else:\n",
    "            s+=i\n",
    "    return s\n"
   ]
  },
  {
   "cell_type": "code",
   "execution_count": 6,
   "id": "a5f54859-a2d2-41d6-8ee6-3c5795dfc16f",
   "metadata": {},
   "outputs": [
    {
     "data": {
      "text/plain": [
       "['bang',\n",
       " 'the',\n",
       " 'door',\n",
       " 'slammed',\n",
       " 'shut',\n",
       " 'wait',\n",
       " 'what',\n",
       " 'she',\n",
       " 'gasped',\n",
       " 'clutching',\n",
       " 'the',\n",
       " 'glowing',\n",
       " 'key',\n",
       " 'as',\n",
       " 'time',\n",
       " 'froze',\n",
       " 'lightning',\n",
       " 'flashed',\n",
       " 'crack',\n",
       " 'revealing',\n",
       " 'the',\n",
       " 'message',\n",
       " 'etched',\n",
       " 'into',\n",
       " 'the',\n",
       " 'wall',\n",
       " 'trustnoone',\n",
       " 'behind',\n",
       " 'her',\n",
       " 'a',\n",
       " 'soft',\n",
       " 'click',\n",
       " 'the',\n",
       " 'unmistakable',\n",
       " 'sound',\n",
       " 'of',\n",
       " 'a',\n",
       " 'lock',\n",
       " 'or',\n",
       " 'was',\n",
       " 'it',\n",
       " 'a',\n",
       " 'trigger',\n",
       " 'you',\n",
       " 've',\n",
       " 'got',\n",
       " 'minutes',\n",
       " 'the',\n",
       " 'voice',\n",
       " 'crackled',\n",
       " 'through',\n",
       " 'the',\n",
       " 'intercom',\n",
       " 'static',\n",
       " 'hissing',\n",
       " 'or',\n",
       " 'it',\n",
       " 's',\n",
       " 'game',\n",
       " 'over']"
      ]
     },
     "execution_count": 6,
     "metadata": {},
     "output_type": "execute_result"
    }
   ],
   "source": [
    "paras = removeSymbols().split(' ')\n",
    "paras = [i.lower() for i in paras if i != '']\n",
    "paras"
   ]
  },
  {
   "cell_type": "code",
   "execution_count": 7,
   "id": "13c4cda4-d61a-4b4f-92b9-39df6c6ba6fa",
   "metadata": {},
   "outputs": [],
   "source": [
    "sent = para.split(\".\")"
   ]
  },
  {
   "cell_type": "code",
   "execution_count": 8,
   "id": "6444cf59-7f4d-4b8f-b99c-06e714c316e4",
   "metadata": {},
   "outputs": [],
   "source": [
    "sentences = [i for i in sent if i !='']"
   ]
  },
  {
   "cell_type": "code",
   "execution_count": 9,
   "id": "431db756-09c6-49c7-92d6-b28a7d710a08",
   "metadata": {},
   "outputs": [
    {
     "data": {
      "text/plain": [
       "['Bang! The door—SLAMMED—shut',\n",
       " ' “Wait',\n",
       " ' what?!?” she gasped, clutching the glowing key—as time froze: 12:00',\n",
       " ' Lightning flashed (CRACK!), revealing the message etched into the wall: “#TrustNoOne',\n",
       " '” Behind her, a soft click—the unmistakable sound of a lock',\n",
       " ' or was it a trigger? “You’ve got 3 minutes,” the voice crackled through the intercom—static hissing—“or it’s game over',\n",
       " '”']"
      ]
     },
     "execution_count": 9,
     "metadata": {},
     "output_type": "execute_result"
    }
   ],
   "source": [
    "sentences"
   ]
  },
  {
   "cell_type": "code",
   "execution_count": 10,
   "id": "fed5de18-d7b9-4fec-851a-a75e389af950",
   "metadata": {},
   "outputs": [],
   "source": [
    "review=\"Paiyaa is a stylish and entertaining road movie that blends romance, action, and music beautifully. Karthi delivers a charming performance as the carefree wanderer, while Tamannaah shines with her subtle expressions. The film’s cinematography captures the journey vividly, and Yuvan Shankar Raja’s soundtrack is the heart of the movie — each song is memorable and perfectly timed. Director N. Lingusamy keeps the narrative engaging, with just the right amount of thrill and sentiment. A feel-good entertainer that’s worth watching for its visuals, music, and the chemistry between the leads.\""
   ]
  },
  {
   "cell_type": "code",
   "execution_count": 11,
   "id": "162d89e6-0a99-4e3a-a011-62aa35adc423",
   "metadata": {},
   "outputs": [
    {
     "data": {
      "text/plain": [
       "['Paiyaa is a stylish and entertaining road movie that blends romance, action, and music beautifully',\n",
       " ' Karthi delivers a charming performance as the carefree wanderer, while Tamannaah shines with her subtle expressions',\n",
       " ' The film’s cinematography captures the journey vividly, and Yuvan Shankar Raja’s soundtrack is the heart of the movie — each song is memorable and perfectly timed',\n",
       " ' Director N',\n",
       " ' Lingusamy keeps the narrative engaging, with just the right amount of thrill and sentiment',\n",
       " ' A feel-good entertainer that’s worth watching for its visuals, music, and the chemistry between the leads',\n",
       " '']"
      ]
     },
     "execution_count": 11,
     "metadata": {},
     "output_type": "execute_result"
    }
   ],
   "source": [
    "sent = review.split(\".\")\n",
    "sent"
   ]
  },
  {
   "cell_type": "code",
   "execution_count": 12,
   "id": "567f0aab-ddd3-4d84-b9f7-a42a79a39ad0",
   "metadata": {},
   "outputs": [],
   "source": [
    "sentences = [i for i in sent if i !='']"
   ]
  },
  {
   "cell_type": "code",
   "execution_count": 13,
   "id": "7b19c592-6075-41bb-90db-7264a83e8ee0",
   "metadata": {},
   "outputs": [
    {
     "data": {
      "text/plain": [
       "['Paiyaa is a stylish and entertaining road movie that blends romance, action, and music beautifully',\n",
       " ' Karthi delivers a charming performance as the carefree wanderer, while Tamannaah shines with her subtle expressions',\n",
       " ' The film’s cinematography captures the journey vividly, and Yuvan Shankar Raja’s soundtrack is the heart of the movie — each song is memorable and perfectly timed',\n",
       " ' Director N',\n",
       " ' Lingusamy keeps the narrative engaging, with just the right amount of thrill and sentiment',\n",
       " ' A feel-good entertainer that’s worth watching for its visuals, music, and the chemistry between the leads']"
      ]
     },
     "execution_count": 13,
     "metadata": {},
     "output_type": "execute_result"
    }
   ],
   "source": [
    "sentences"
   ]
  },
  {
   "cell_type": "code",
   "execution_count": 14,
   "id": "60cdfe3b-a663-4574-b376-706d9d3f2903",
   "metadata": {},
   "outputs": [],
   "source": [
    "tokenized_sentence = [word_tokenize(i) for i in sentences]"
   ]
  },
  {
   "cell_type": "code",
   "execution_count": null,
   "id": "32e55bef-f366-4359-a276-e4b7b1ad77c3",
   "metadata": {},
   "outputs": [],
   "source": []
  },
  {
   "cell_type": "code",
   "execution_count": 15,
   "id": "0f4da066-420d-4819-8565-4944d704b731",
   "metadata": {},
   "outputs": [],
   "source": [
    "tagged_sentence = [pos_tag(i) for i in tokenized_sentence]"
   ]
  },
  {
   "cell_type": "code",
   "execution_count": 16,
   "id": "ae57fcbf-2a04-4da4-84f8-356f3de30af3",
   "metadata": {},
   "outputs": [],
   "source": [
    "lemmatized = [lemmatizer.lemmatize(word, get_wordnet_pos(pos)) for tagged in tagged_sentence for word, pos in tagged]\n"
   ]
  },
  {
   "cell_type": "code",
   "execution_count": 17,
   "id": "9df2bd73-e613-491a-abf1-f51d2c97f15a",
   "metadata": {},
   "outputs": [
    {
     "data": {
      "text/plain": [
       "['Paiyaa',\n",
       " 'be',\n",
       " 'a',\n",
       " 'stylish',\n",
       " 'and',\n",
       " 'entertaining',\n",
       " 'road',\n",
       " 'movie',\n",
       " 'that',\n",
       " 'blend',\n",
       " 'romance',\n",
       " ',',\n",
       " 'action',\n",
       " ',',\n",
       " 'and',\n",
       " 'music',\n",
       " 'beautifully',\n",
       " 'Karthi',\n",
       " 'deliver',\n",
       " 'a',\n",
       " 'charming',\n",
       " 'performance',\n",
       " 'a',\n",
       " 'the',\n",
       " 'carefree',\n",
       " 'wanderer',\n",
       " ',',\n",
       " 'while',\n",
       " 'Tamannaah',\n",
       " 'shine',\n",
       " 'with',\n",
       " 'her',\n",
       " 'subtle',\n",
       " 'expression',\n",
       " 'The',\n",
       " 'film',\n",
       " '’',\n",
       " 's',\n",
       " 'cinematography',\n",
       " 'capture',\n",
       " 'the',\n",
       " 'journey',\n",
       " 'vividly',\n",
       " ',',\n",
       " 'and',\n",
       " 'Yuvan',\n",
       " 'Shankar',\n",
       " 'Raja',\n",
       " '’',\n",
       " 's',\n",
       " 'soundtrack',\n",
       " 'be',\n",
       " 'the',\n",
       " 'heart',\n",
       " 'of',\n",
       " 'the',\n",
       " 'movie',\n",
       " '—',\n",
       " 'each',\n",
       " 'song',\n",
       " 'be',\n",
       " 'memorable',\n",
       " 'and',\n",
       " 'perfectly',\n",
       " 'time',\n",
       " 'Director',\n",
       " 'N',\n",
       " 'Lingusamy',\n",
       " 'keep',\n",
       " 'the',\n",
       " 'narrative',\n",
       " 'engaging',\n",
       " ',',\n",
       " 'with',\n",
       " 'just',\n",
       " 'the',\n",
       " 'right',\n",
       " 'amount',\n",
       " 'of',\n",
       " 'thrill',\n",
       " 'and',\n",
       " 'sentiment',\n",
       " 'A',\n",
       " 'feel-good',\n",
       " 'entertainer',\n",
       " 'that',\n",
       " '’',\n",
       " 's',\n",
       " 'worth',\n",
       " 'watch',\n",
       " 'for',\n",
       " 'it',\n",
       " 'visuals',\n",
       " ',',\n",
       " 'music',\n",
       " ',',\n",
       " 'and',\n",
       " 'the',\n",
       " 'chemistry',\n",
       " 'between',\n",
       " 'the',\n",
       " 'lead']"
      ]
     },
     "execution_count": 17,
     "metadata": {},
     "output_type": "execute_result"
    }
   ],
   "source": [
    "lemmatized"
   ]
  },
  {
   "cell_type": "code",
   "execution_count": 18,
   "id": "3ebf9095-5eb3-471f-aaeb-9b8a9ddb08fd",
   "metadata": {},
   "outputs": [
    {
     "data": {
      "text/plain": [
       "'Paiyaa be a stylish and entertaining road movie that blend romance , action , and music beautifully Karthi deliver a charming performance a the carefree wanderer , while Tamannaah shine with her subtle expression The film ’ s cinematography capture the journey vividly , and Yuvan Shankar Raja ’ s soundtrack be the heart of the movie — each song be memorable and perfectly time Director N Lingusamy keep the narrative engaging , with just the right amount of thrill and sentiment A feel-good entertainer that ’ s worth watch for it visuals , music , and the chemistry between the lead'"
      ]
     },
     "execution_count": 18,
     "metadata": {},
     "output_type": "execute_result"
    }
   ],
   "source": [
    "\" \".join(lemmatized)"
   ]
  },
  {
   "cell_type": "code",
   "execution_count": 19,
   "id": "ddef1584-4d2f-415f-9789-189c1770c0f8",
   "metadata": {},
   "outputs": [
    {
     "data": {
      "text/plain": [
       "'Paiyaa is a stylish and entertaining road movie that blends romance, action, and music beautifully. Karthi delivers a charming performance as the carefree wanderer, while Tamannaah shines with her subtle expressions. The film’s cinematography captures the journey vividly, and Yuvan Shankar Raja’s soundtrack is the heart of the movie — each song is memorable and perfectly timed. Director N. Lingusamy keeps the narrative engaging, with just the right amount of thrill and sentiment. A feel-good entertainer that’s worth watching for its visuals, music, and the chemistry between the leads.'"
      ]
     },
     "execution_count": 19,
     "metadata": {},
     "output_type": "execute_result"
    }
   ],
   "source": [
    "review"
   ]
  },
  {
   "cell_type": "code",
   "execution_count": 20,
   "id": "c9af1328-0e5f-41ec-91dd-0fc83773e74b",
   "metadata": {},
   "outputs": [],
   "source": [
    "def Lemmatizer(para):\n",
    "    lemmatizer = WordNetLemmatizer()\n",
    "    sent = para.split(\".\")\n",
    "    \n",
    "    sentences = [i for i in sent if i !='']\n",
    "    tokenized_sentence = [word_tokenize(i) for i in sentences]\n",
    "    tagged_sentence = [pos_tag(i) for i in tokenized_sentence]\n",
    "    lemmatized = [lemmatizer.lemmatize(word, get_wordnet_pos(pos)) for tagged in tagged_sentence for word, pos in tagged]\n",
    "    return \" \".join(lemmatized)\n",
    "    \n",
    "    "
   ]
  },
  {
   "cell_type": "code",
   "execution_count": 21,
   "id": "816a0011-3317-41b3-8187-8a894f0034ee",
   "metadata": {},
   "outputs": [
    {
     "data": {
      "text/plain": [
       "'Paiyaa be a stylish and entertaining road movie that blend romance , action , and music beautifully Karthi deliver a charming performance a the carefree wanderer , while Tamannaah shine with her subtle expression The film ’ s cinematography capture the journey vividly , and Yuvan Shankar Raja ’ s soundtrack be the heart of the movie — each song be memorable and perfectly time Director N Lingusamy keep the narrative engaging , with just the right amount of thrill and sentiment A feel-good entertainer that ’ s worth watch for it visuals , music , and the chemistry between the lead'"
      ]
     },
     "execution_count": 21,
     "metadata": {},
     "output_type": "execute_result"
    }
   ],
   "source": [
    "rev = Lemmatizer(review)\n",
    "rev"
   ]
  },
  {
   "cell_type": "code",
   "execution_count": 22,
   "id": "93de3614-38fb-4faf-997d-7a0ff3b95727",
   "metadata": {},
   "outputs": [],
   "source": [
    "revWithoutSymbol = removeSymbols(rev)"
   ]
  },
  {
   "cell_type": "code",
   "execution_count": 23,
   "id": "4ab639ad-2338-449e-a037-f1fd7bad6f48",
   "metadata": {},
   "outputs": [
    {
     "data": {
      "text/plain": [
       "'Paiyaa be a stylish and entertaining road movie that blend romance   action   and music beautifully Karthi deliver a charming performance a the carefree wanderer   while Tamannaah shine with her subtle expression The film   s cinematography capture the journey vividly   and Yuvan Shankar Raja   s soundtrack be the heart of the movie   each song be memorable and perfectly time Director N Lingusamy keep the narrative engaging   with just the right amount of thrill and sentiment A feel good entertainer that   s worth watch for it visuals   music   and the chemistry between the lead'"
      ]
     },
     "execution_count": 23,
     "metadata": {},
     "output_type": "execute_result"
    }
   ],
   "source": [
    "revWithoutSymbol"
   ]
  },
  {
   "cell_type": "code",
   "execution_count": 24,
   "id": "4780ff71-4c97-4b16-96cb-a40b3d3f6168",
   "metadata": {},
   "outputs": [],
   "source": [
    "revpre = revWithoutSymbol.split(\" \")\n",
    "revtokens = [i.lower() for i in revpre if i != '']\n"
   ]
  },
  {
   "cell_type": "code",
   "execution_count": null,
   "id": "dbb7410f-a007-40a9-9769-df52038bf49a",
   "metadata": {},
   "outputs": [],
   "source": []
  },
  {
   "cell_type": "code",
   "execution_count": 25,
   "id": "fab9bb32-7d6e-4f4f-b9e9-f990bcf0a50f",
   "metadata": {},
   "outputs": [],
   "source": [
    "revwithoutstop = [i for i in revtokens if i not in stopwords and i not in letter]"
   ]
  },
  {
   "cell_type": "code",
   "execution_count": 26,
   "id": "bb23cd99-c184-4844-89ce-2260fef18c97",
   "metadata": {},
   "outputs": [
    {
     "data": {
      "text/plain": [
       "['paiyaa',\n",
       " 'stylish',\n",
       " 'entertaining',\n",
       " 'road',\n",
       " 'movie',\n",
       " 'blend',\n",
       " 'romance',\n",
       " 'action',\n",
       " 'music',\n",
       " 'beautifully',\n",
       " 'karthi',\n",
       " 'deliver',\n",
       " 'charming',\n",
       " 'performance',\n",
       " 'carefree',\n",
       " 'wanderer',\n",
       " 'tamannaah',\n",
       " 'shine',\n",
       " 'subtle',\n",
       " 'expression',\n",
       " 'film',\n",
       " 'cinematography',\n",
       " 'capture',\n",
       " 'journey',\n",
       " 'vividly',\n",
       " 'yuvan',\n",
       " 'shankar',\n",
       " 'raja',\n",
       " 'soundtrack',\n",
       " 'heart',\n",
       " 'movie',\n",
       " 'song',\n",
       " 'memorable',\n",
       " 'perfectly',\n",
       " 'time',\n",
       " 'director',\n",
       " 'lingusamy',\n",
       " 'keep',\n",
       " 'narrative',\n",
       " 'engaging',\n",
       " 'just',\n",
       " 'right',\n",
       " 'amount',\n",
       " 'thrill',\n",
       " 'sentiment',\n",
       " 'feel',\n",
       " 'good',\n",
       " 'entertainer',\n",
       " 'worth',\n",
       " 'watch',\n",
       " 'visuals',\n",
       " 'music',\n",
       " 'chemistry',\n",
       " 'lead']"
      ]
     },
     "execution_count": 26,
     "metadata": {},
     "output_type": "execute_result"
    }
   ],
   "source": [
    "revwithoutstop"
   ]
  },
  {
   "cell_type": "code",
   "execution_count": 27,
   "id": "d3b00320-688e-43f2-a8e2-283a5cebdac4",
   "metadata": {},
   "outputs": [],
   "source": [
    "def preprocessParagraph(Paragraph):\n",
    "    lemma = Lemmatizer(Paragraph)\n",
    "    withoutsymb = removeSymbols(lemma)\n",
    "    revpre = withoutsymb.split(\" \")\n",
    "    revtokens = [i.lower() for i in revpre if i != '']\n",
    "    revwithoutstop = [i for i in revtokens if i not in stopwords and i not in letter]\n",
    "    return revwithoutstop\n",
    "    \n",
    "    "
   ]
  },
  {
   "cell_type": "code",
   "execution_count": 28,
   "id": "5bc2e0f2-5d91-4c75-aaba-6c62fd53c17f",
   "metadata": {},
   "outputs": [
    {
     "data": {
      "text/plain": [
       "['paiyaa',\n",
       " 'stylish',\n",
       " 'entertaining',\n",
       " 'road',\n",
       " 'movie',\n",
       " 'blend',\n",
       " 'romance',\n",
       " 'action',\n",
       " 'music',\n",
       " 'beautifully',\n",
       " 'karthi',\n",
       " 'deliver',\n",
       " 'charming',\n",
       " 'performance',\n",
       " 'carefree',\n",
       " 'wanderer',\n",
       " 'tamannaah',\n",
       " 'shine',\n",
       " 'subtle',\n",
       " 'expression',\n",
       " 'film',\n",
       " 'cinematography',\n",
       " 'capture',\n",
       " 'journey',\n",
       " 'vividly',\n",
       " 'yuvan',\n",
       " 'shankar',\n",
       " 'raja',\n",
       " 'soundtrack',\n",
       " 'heart',\n",
       " 'movie',\n",
       " 'song',\n",
       " 'memorable',\n",
       " 'perfectly',\n",
       " 'time',\n",
       " 'director',\n",
       " 'lingusamy',\n",
       " 'keep',\n",
       " 'narrative',\n",
       " 'engaging',\n",
       " 'just',\n",
       " 'right',\n",
       " 'amount',\n",
       " 'thrill',\n",
       " 'sentiment',\n",
       " 'feel',\n",
       " 'good',\n",
       " 'entertainer',\n",
       " 'worth',\n",
       " 'watch',\n",
       " 'visuals',\n",
       " 'music',\n",
       " 'chemistry',\n",
       " 'lead']"
      ]
     },
     "execution_count": 28,
     "metadata": {},
     "output_type": "execute_result"
    }
   ],
   "source": [
    "preprocessParagraph(review)"
   ]
  },
  {
   "cell_type": "code",
   "execution_count": 29,
   "id": "3b4cdfe4-1226-443f-b40c-d074eb523e65",
   "metadata": {},
   "outputs": [
    {
     "data": {
      "text/plain": [
       "['vikram',\n",
       " 'high',\n",
       " 'octane',\n",
       " 'action',\n",
       " 'thriller',\n",
       " 'deliver',\n",
       " 'front',\n",
       " 'kamal',\n",
       " 'haasan',\n",
       " 'performance',\n",
       " 'powerful',\n",
       " 'magnetic',\n",
       " 'fahadh',\n",
       " 'faasil',\n",
       " 'vijay',\n",
       " 'sethupathi',\n",
       " 'add',\n",
       " 'depth',\n",
       " 'intensity',\n",
       " 'film',\n",
       " 'lokesh',\n",
       " 'kanagaraj',\n",
       " 'direction',\n",
       " 'tight',\n",
       " 'stylish',\n",
       " 'brilliant',\n",
       " 'action',\n",
       " 'choreography',\n",
       " 'gripping',\n",
       " 'narrative',\n",
       " 'background',\n",
       " 'score',\n",
       " 'anirudh',\n",
       " 'elevates',\n",
       " 'every',\n",
       " 'moment',\n",
       " 'film',\n",
       " 'keep',\n",
       " 'edge',\n",
       " 'seat',\n",
       " 'reward',\n",
       " 'stun',\n",
       " 'visuals',\n",
       " 'strong',\n",
       " 'storytelling']"
      ]
     },
     "execution_count": 29,
     "metadata": {},
     "output_type": "execute_result"
    }
   ],
   "source": [
    "preprocessParagraph(\"Vikram is a high-octane action thriller that delivers on all fronts. Kamal Haasan’s performance is powerful and magnetic, while Fahadh Faasil and Vijay Sethupathi add depth and intensity to the film. Lokesh Kanagaraj’s direction is tight and stylish, with brilliant action choreography and a gripping narrative. The background score by Anirudh elevates every moment. It's a film that keeps you on the edge of your seat and rewards you with stunning visuals and strong storytelling.\")"
   ]
  },
  {
   "cell_type": "code",
   "execution_count": 30,
   "id": "2a08860a-eca4-4f6e-8d22-e6b2746d4d42",
   "metadata": {},
   "outputs": [],
   "source": [
    "reviews = [\n",
    "    \"Paiyaa is a refreshing blend of romance, action, and music set against the backdrop of a long road trip. The film thrives on the chemistry between Karthi and Tamannaah, whose performances carry the emotional weight of the story. Yuvan Shankar Raja’s music is a standout element, with songs that not only add energy but also reflect the characters’ emotional states. Lingusamy’s direction keeps the narrative engaging despite a simple plot. The cinematography beautifully captures the journey, and the mix of action with subtle emotional beats makes Paiyaa a memorable and rewatchable experience for fans of road trip romances.\",\n",
    "    \n",
    "    \"Vikram is a masterclass in commercial filmmaking, seamlessly blending gritty action, political intrigue, and emotional depth. Kamal Haasan’s comeback is nothing short of spectacular, and his calm yet commanding screen presence anchors the film. Fahadh Faasil as the sharp undercover agent and Vijay Sethupathi as the eccentric antagonist both deliver layered, scene-stealing performances. Director Lokesh Kanagaraj expertly builds a tense narrative filled with twists, stylish action sequences, and subtle callbacks to previous films in his cinematic universe. Anirudh Ravichander’s pulsating background score enhances every scene, making Vikram not just a film, but an experience that grips you from start to finish.\",\n",
    "    \n",
    "    \"Soorarai Pottru is an emotionally charged biopic that traces the journey of an underdog determined to bring air travel to the common man. Suriya’s portrayal of Nedumaaran Rajangam is intense, heartfelt, and deeply inspiring. The film is grounded in realism but soars with its powerful emotional core, exploring themes of ambition, struggle, and resilience. Director Sudha Kongara crafts a story that is both intimate and epic, filled with memorable supporting characters, tight screenplay, and dialogues that stay with you. G.V. Prakash’s music and background score elevate the highs and lows, making Soorarai Pottru a cinematic triumph that connects universally.\"\n",
    "]\n"
   ]
  },
  {
   "cell_type": "code",
   "execution_count": 31,
   "id": "96e7333f-cc08-47cb-b094-636d3acacab3",
   "metadata": {},
   "outputs": [],
   "source": [
    "r = [preprocessParagraph(i) for i in reviews]"
   ]
  },
  {
   "cell_type": "code",
   "execution_count": 32,
   "id": "946843c8-4f74-40df-9ef7-8e9eb1488d64",
   "metadata": {},
   "outputs": [],
   "source": [
    "s= r[0]"
   ]
  },
  {
   "cell_type": "code",
   "execution_count": 33,
   "id": "fa6d89f8-8ece-4981-9eaa-2bcaf849b5b4",
   "metadata": {},
   "outputs": [],
   "source": [
    "TF = []\n",
    "\n",
    "for doc in r:  # r is list of documents (each is list of words)\n",
    "    tf_dict = {}\n",
    "    for word in doc:\n",
    "        if word not in tf_dict:\n",
    "            tf_dict[word] = 1\n",
    "        else:\n",
    "            tf_dict[word] += 1\n",
    "    total_words = len(doc)\n",
    "    # Normalize\n",
    "    for word in tf_dict:\n",
    "        tf_dict[word] = tf_dict[word] / total_words\n",
    "    TF.append(tf_dict)\n",
    "\n",
    "\n",
    "        \n",
    "    "
   ]
  },
  {
   "cell_type": "code",
   "execution_count": 34,
   "id": "85bcdcce-7bfc-4e86-bd64-74466a14607c",
   "metadata": {},
   "outputs": [
    {
     "ename": "TypeError",
     "evalue": "list indices must be integers or slices, not dict",
     "output_type": "error",
     "traceback": [
      "\u001b[1;31m---------------------------------------------------------------------------\u001b[0m",
      "\u001b[1;31mTypeError\u001b[0m                                 Traceback (most recent call last)",
      "Cell \u001b[1;32mIn[34], line 2\u001b[0m\n\u001b[0;32m      1\u001b[0m \u001b[38;5;28;01mfor\u001b[39;00m i \u001b[38;5;129;01min\u001b[39;00m TF:\n\u001b[1;32m----> 2\u001b[0m     TF[i] \u001b[38;5;241m=\u001b[39m \u001b[43mTF\u001b[49m\u001b[43m[\u001b[49m\u001b[43mi\u001b[49m\u001b[43m]\u001b[49m\u001b[38;5;241m/\u001b[39m\u001b[38;5;28mlen\u001b[39m(s)\n",
      "\u001b[1;31mTypeError\u001b[0m: list indices must be integers or slices, not dict"
     ]
    }
   ],
   "source": [
    "for i in TF:\n",
    "    TF[i] = TF[i]/len(s)"
   ]
  },
  {
   "cell_type": "code",
   "execution_count": null,
   "id": "db8d7f25-4c1a-414c-b1cd-b113a6a825b9",
   "metadata": {},
   "outputs": [],
   "source": [
    "words = set()"
   ]
  },
  {
   "cell_type": "code",
   "execution_count": null,
   "id": "e1d25913-21b5-4250-a77b-445b1c8dc5dd",
   "metadata": {},
   "outputs": [],
   "source": [
    "for i in r:\n",
    "    for j in i:\n",
    "        if j not in words:\n",
    "            words.add(j)"
   ]
  },
  {
   "cell_type": "code",
   "execution_count": null,
   "id": "5a4847b4-5c12-471b-b839-ff13efd597d6",
   "metadata": {},
   "outputs": [],
   "source": [
    "words=list(words)"
   ]
  },
  {
   "cell_type": "code",
   "execution_count": 35,
   "id": "1e7d68af-1179-4284-b730-16885b4d25fb",
   "metadata": {},
   "outputs": [],
   "source": [
    "IDF={}\n",
    "import math\n"
   ]
  },
  {
   "cell_type": "code",
   "execution_count": 36,
   "id": "bd305cb4-121a-414b-aa43-1df32fc58f75",
   "metadata": {},
   "outputs": [
    {
     "ename": "NameError",
     "evalue": "name 'words' is not defined",
     "output_type": "error",
     "traceback": [
      "\u001b[1;31m---------------------------------------------------------------------------\u001b[0m",
      "\u001b[1;31mNameError\u001b[0m                                 Traceback (most recent call last)",
      "Cell \u001b[1;32mIn[36], line 1\u001b[0m\n\u001b[1;32m----> 1\u001b[0m \u001b[38;5;28;01mfor\u001b[39;00m i \u001b[38;5;129;01min\u001b[39;00m \u001b[43mwords\u001b[49m:\n\u001b[0;32m      2\u001b[0m     count \u001b[38;5;241m=\u001b[39m \u001b[38;5;241m0\u001b[39m\n\u001b[0;32m      3\u001b[0m     \u001b[38;5;28;01mfor\u001b[39;00m j \u001b[38;5;129;01min\u001b[39;00m r:\n",
      "\u001b[1;31mNameError\u001b[0m: name 'words' is not defined"
     ]
    }
   ],
   "source": [
    "for i in words:\n",
    "    count = 0\n",
    "    for j in r:\n",
    "        if i in j:\n",
    "            count+=1\n",
    "    IDF[i] = math.log10(len(r)/(1+count))\n",
    "    count = 0\n",
    "IDF\n",
    "        \n",
    "    "
   ]
  },
  {
   "cell_type": "code",
   "execution_count": 37,
   "id": "8f696bf5-49f8-4d4d-92cd-82572c02c651",
   "metadata": {},
   "outputs": [
    {
     "data": {
      "text/plain": [
       "[{'paiyaa': 0.03225806451612903,\n",
       "  'refresh': 0.016129032258064516,\n",
       "  'blend': 0.016129032258064516,\n",
       "  'romance': 0.03225806451612903,\n",
       "  'action': 0.03225806451612903,\n",
       "  'music': 0.03225806451612903,\n",
       "  'set': 0.016129032258064516,\n",
       "  'backdrop': 0.016129032258064516,\n",
       "  'long': 0.016129032258064516,\n",
       "  'road': 0.03225806451612903,\n",
       "  'trip': 0.03225806451612903,\n",
       "  'film': 0.016129032258064516,\n",
       "  'thrives': 0.016129032258064516,\n",
       "  'chemistry': 0.016129032258064516,\n",
       "  'karthi': 0.016129032258064516,\n",
       "  'tamannaah': 0.016129032258064516,\n",
       "  'whose': 0.016129032258064516,\n",
       "  'performance': 0.016129032258064516,\n",
       "  'carry': 0.016129032258064516,\n",
       "  'emotional': 0.04838709677419355,\n",
       "  'weight': 0.016129032258064516,\n",
       "  'story': 0.016129032258064516,\n",
       "  'yuvan': 0.016129032258064516,\n",
       "  'shankar': 0.016129032258064516,\n",
       "  'raja': 0.016129032258064516,\n",
       "  'standout': 0.016129032258064516,\n",
       "  'element': 0.016129032258064516,\n",
       "  'song': 0.016129032258064516,\n",
       "  'add': 0.016129032258064516,\n",
       "  'energy': 0.016129032258064516,\n",
       "  'also': 0.016129032258064516,\n",
       "  'reflect': 0.016129032258064516,\n",
       "  'character': 0.016129032258064516,\n",
       "  'state': 0.016129032258064516,\n",
       "  'lingusamy': 0.016129032258064516,\n",
       "  'direction': 0.016129032258064516,\n",
       "  'keep': 0.016129032258064516,\n",
       "  'narrative': 0.016129032258064516,\n",
       "  'engaging': 0.016129032258064516,\n",
       "  'despite': 0.016129032258064516,\n",
       "  'simple': 0.016129032258064516,\n",
       "  'plot': 0.016129032258064516,\n",
       "  'cinematography': 0.016129032258064516,\n",
       "  'beautifully': 0.016129032258064516,\n",
       "  'capture': 0.016129032258064516,\n",
       "  'journey': 0.016129032258064516,\n",
       "  'mix': 0.016129032258064516,\n",
       "  'subtle': 0.016129032258064516,\n",
       "  'beat': 0.016129032258064516,\n",
       "  'make': 0.016129032258064516,\n",
       "  'memorable': 0.016129032258064516,\n",
       "  'rewatchable': 0.016129032258064516,\n",
       "  'experience': 0.016129032258064516,\n",
       "  'fan': 0.016129032258064516},\n",
       " {'vikram': 0.0273972602739726,\n",
       "  'masterclass': 0.0136986301369863,\n",
       "  'commercial': 0.0136986301369863,\n",
       "  'filmmaking': 0.0136986301369863,\n",
       "  'seamlessly': 0.0136986301369863,\n",
       "  'blend': 0.0136986301369863,\n",
       "  'gritty': 0.0136986301369863,\n",
       "  'action': 0.0273972602739726,\n",
       "  'political': 0.0136986301369863,\n",
       "  'intrigue': 0.0136986301369863,\n",
       "  'emotional': 0.0136986301369863,\n",
       "  'depth': 0.0136986301369863,\n",
       "  'kamal': 0.0136986301369863,\n",
       "  'haasan': 0.0136986301369863,\n",
       "  'comeback': 0.0136986301369863,\n",
       "  'nothing': 0.0136986301369863,\n",
       "  'short': 0.0136986301369863,\n",
       "  'spectacular': 0.0136986301369863,\n",
       "  'calm': 0.0136986301369863,\n",
       "  'yet': 0.0136986301369863,\n",
       "  'command': 0.0136986301369863,\n",
       "  'screen': 0.0136986301369863,\n",
       "  'presence': 0.0136986301369863,\n",
       "  'anchor': 0.0136986301369863,\n",
       "  'film': 0.0410958904109589,\n",
       "  'fahadh': 0.0136986301369863,\n",
       "  'faasil': 0.0136986301369863,\n",
       "  'sharp': 0.0136986301369863,\n",
       "  'undercover': 0.0136986301369863,\n",
       "  'agent': 0.0136986301369863,\n",
       "  'vijay': 0.0136986301369863,\n",
       "  'sethupathi': 0.0136986301369863,\n",
       "  'eccentric': 0.0136986301369863,\n",
       "  'antagonist': 0.0136986301369863,\n",
       "  'deliver': 0.0136986301369863,\n",
       "  'layer': 0.0136986301369863,\n",
       "  'scene': 0.0273972602739726,\n",
       "  'stealing': 0.0136986301369863,\n",
       "  'performance': 0.0136986301369863,\n",
       "  'director': 0.0136986301369863,\n",
       "  'lokesh': 0.0136986301369863,\n",
       "  'kanagaraj': 0.0136986301369863,\n",
       "  'expertly': 0.0136986301369863,\n",
       "  'build': 0.0136986301369863,\n",
       "  'tense': 0.0136986301369863,\n",
       "  'narrative': 0.0136986301369863,\n",
       "  'fill': 0.0136986301369863,\n",
       "  'twist': 0.0136986301369863,\n",
       "  'stylish': 0.0136986301369863,\n",
       "  'sequence': 0.0136986301369863,\n",
       "  'subtle': 0.0136986301369863,\n",
       "  'callback': 0.0136986301369863,\n",
       "  'previous': 0.0136986301369863,\n",
       "  'cinematic': 0.0136986301369863,\n",
       "  'universe': 0.0136986301369863,\n",
       "  'anirudh': 0.0136986301369863,\n",
       "  'ravichander': 0.0136986301369863,\n",
       "  'pulsate': 0.0136986301369863,\n",
       "  'background': 0.0136986301369863,\n",
       "  'score': 0.0136986301369863,\n",
       "  'enhances': 0.0136986301369863,\n",
       "  'every': 0.0136986301369863,\n",
       "  'make': 0.0136986301369863,\n",
       "  'just': 0.0136986301369863,\n",
       "  'experience': 0.0136986301369863,\n",
       "  'grip': 0.0136986301369863,\n",
       "  'start': 0.0136986301369863,\n",
       "  'finish': 0.0136986301369863},\n",
       " {'soorarai': 0.031746031746031744,\n",
       "  'pottru': 0.031746031746031744,\n",
       "  'emotionally': 0.015873015873015872,\n",
       "  'charge': 0.015873015873015872,\n",
       "  'biopic': 0.015873015873015872,\n",
       "  'trace': 0.015873015873015872,\n",
       "  'journey': 0.015873015873015872,\n",
       "  'underdog': 0.015873015873015872,\n",
       "  'determine': 0.015873015873015872,\n",
       "  'bring': 0.015873015873015872,\n",
       "  'air': 0.015873015873015872,\n",
       "  'travel': 0.015873015873015872,\n",
       "  'common': 0.015873015873015872,\n",
       "  'man': 0.015873015873015872,\n",
       "  'suriya': 0.015873015873015872,\n",
       "  'portrayal': 0.015873015873015872,\n",
       "  'nedumaaran': 0.015873015873015872,\n",
       "  'rajangam': 0.015873015873015872,\n",
       "  'intense': 0.015873015873015872,\n",
       "  'heartfelt': 0.015873015873015872,\n",
       "  'deeply': 0.015873015873015872,\n",
       "  'inspire': 0.015873015873015872,\n",
       "  'film': 0.015873015873015872,\n",
       "  'ground': 0.015873015873015872,\n",
       "  'realism': 0.015873015873015872,\n",
       "  'soar': 0.015873015873015872,\n",
       "  'powerful': 0.015873015873015872,\n",
       "  'emotional': 0.015873015873015872,\n",
       "  'core': 0.015873015873015872,\n",
       "  'explore': 0.015873015873015872,\n",
       "  'theme': 0.015873015873015872,\n",
       "  'ambition': 0.015873015873015872,\n",
       "  'struggle': 0.015873015873015872,\n",
       "  'resilience': 0.015873015873015872,\n",
       "  'director': 0.015873015873015872,\n",
       "  'sudha': 0.015873015873015872,\n",
       "  'kongara': 0.015873015873015872,\n",
       "  'craft': 0.015873015873015872,\n",
       "  'story': 0.015873015873015872,\n",
       "  'intimate': 0.015873015873015872,\n",
       "  'epic': 0.015873015873015872,\n",
       "  'fill': 0.015873015873015872,\n",
       "  'memorable': 0.015873015873015872,\n",
       "  'support': 0.015873015873015872,\n",
       "  'character': 0.015873015873015872,\n",
       "  'tight': 0.015873015873015872,\n",
       "  'screenplay': 0.015873015873015872,\n",
       "  'dialogues': 0.015873015873015872,\n",
       "  'stay': 0.015873015873015872,\n",
       "  'prakash': 0.015873015873015872,\n",
       "  'music': 0.015873015873015872,\n",
       "  'background': 0.015873015873015872,\n",
       "  'score': 0.015873015873015872,\n",
       "  'elevate': 0.015873015873015872,\n",
       "  'high': 0.015873015873015872,\n",
       "  'low': 0.015873015873015872,\n",
       "  'make': 0.015873015873015872,\n",
       "  'cinematic': 0.015873015873015872,\n",
       "  'triumph': 0.015873015873015872,\n",
       "  'connect': 0.015873015873015872,\n",
       "  'universally': 0.015873015873015872}]"
      ]
     },
     "execution_count": 37,
     "metadata": {},
     "output_type": "execute_result"
    }
   ],
   "source": [
    "TF"
   ]
  },
  {
   "cell_type": "code",
   "execution_count": 38,
   "id": "001f022a-2618-4431-9026-339eefcccf3e",
   "metadata": {},
   "outputs": [
    {
     "ename": "NameError",
     "evalue": "name 'words' is not defined",
     "output_type": "error",
     "traceback": [
      "\u001b[1;31m---------------------------------------------------------------------------\u001b[0m",
      "\u001b[1;31mNameError\u001b[0m                                 Traceback (most recent call last)",
      "Cell \u001b[1;32mIn[38], line 7\u001b[0m\n\u001b[0;32m      5\u001b[0m doc_tfidf_dict \u001b[38;5;241m=\u001b[39m {}\n\u001b[0;32m      6\u001b[0m doc_tfidf_list \u001b[38;5;241m=\u001b[39m []\n\u001b[1;32m----> 7\u001b[0m \u001b[38;5;28;01mfor\u001b[39;00m word \u001b[38;5;129;01min\u001b[39;00m \u001b[43mwords\u001b[49m:\n\u001b[0;32m      8\u001b[0m     tf \u001b[38;5;241m=\u001b[39m TF[i]\u001b[38;5;241m.\u001b[39mget(word, \u001b[38;5;241m0\u001b[39m)\n\u001b[0;32m      9\u001b[0m     idf \u001b[38;5;241m=\u001b[39m IDF\u001b[38;5;241m.\u001b[39mget(word, \u001b[38;5;241m0\u001b[39m)\n",
      "\u001b[1;31mNameError\u001b[0m: name 'words' is not defined"
     ]
    }
   ],
   "source": [
    "tfidf_dicts = []\n",
    "tfidf_lists = []\n",
    "\n",
    "for i in range(len(r)):  # for each document\n",
    "    doc_tfidf_dict = {}\n",
    "    doc_tfidf_list = []\n",
    "    for word in words:\n",
    "        tf = TF[i].get(word, 0)\n",
    "        idf = IDF.get(word, 0)\n",
    "        score = tf * idf\n",
    "        \n",
    "        doc_tfidf_dict[word] = score\n",
    "        doc_tfidf_list.append(score)\n",
    "    \n",
    "    tfidf_dicts.append(doc_tfidf_dict)\n",
    "    tfidf_lists.append(doc_tfidf_list)\n",
    "\n",
    "\n",
    "            \n",
    "            \n",
    "        \n",
    "    \n",
    "    "
   ]
  },
  {
   "cell_type": "code",
   "execution_count": 39,
   "id": "597f02e8-8d8f-4c0f-8598-bb7fbe62e71b",
   "metadata": {},
   "outputs": [
    {
     "data": {
      "text/plain": [
       "[]"
      ]
     },
     "execution_count": 39,
     "metadata": {},
     "output_type": "execute_result"
    }
   ],
   "source": [
    "tfidf_dicts"
   ]
  },
  {
   "cell_type": "code",
   "execution_count": 40,
   "id": "8cd6337b-822e-4f60-8dd5-56daa2db979c",
   "metadata": {},
   "outputs": [],
   "source": [
    "def preprocessParagraph(Paragraphs):\n",
    "    processed = []\n",
    "    for Paragraph in Paragraphs:\n",
    "    \n",
    "    \n",
    "        lemma = Lemmatizer(Paragraph)\n",
    "        withoutsymb = removeSymbols(lemma)\n",
    "        revpre = withoutsymb.split(\" \")\n",
    "        revtokens = [i.lower() for i in revpre if i != '']\n",
    "        revwithoutstop = [i for i in revtokens if i not in stopwords and i not in letter]\n",
    "        processed+=[revwithoutstop]\n",
    "    return processed"
   ]
  },
  {
   "cell_type": "code",
   "execution_count": 70,
   "id": "a797b56d-1118-4890-865d-3fd053c697bf",
   "metadata": {},
   "outputs": [],
   "source": [
    "\n",
    "import math\n",
    "from collections import Counter\n",
    "\n",
    "import math\n",
    "from collections import Counter\n",
    "\n",
    "def compute_tfidf(docs):\n",
    "    \"\"\"\n",
    "    Computes TF-IDF scores for a list of tokenized documents.\n",
    "\n",
    "    Args:\n",
    "        docs (list of list of str): Tokenized documents.\n",
    "\n",
    "    Returns:\n",
    "        tfidf_matrix (list of list of float): Each document's TF-IDF vector.\n",
    "        tfidf_dicts (list of dict): Each document's word-to-tfidf mapping.\n",
    "    \"\"\"\n",
    "    \n",
    "    docs = preprocessParagraph(docs)  # Custom preprocessing\n",
    "    total_docs = len(docs)\n",
    "\n",
    "    term_frequencies = []\n",
    "    document_frequencies = {}\n",
    "    vocabulary_set = set()\n",
    "\n",
    "    # Step 1: Compute TF and DF\n",
    "    for doc in docs:\n",
    "        tf = Counter(doc)\n",
    "        total_words = sum(tf.values())\n",
    "        for word in tf:\n",
    "            tf[word] /= total_words\n",
    "        term_frequencies.append(tf)\n",
    "\n",
    "        unique_words = set(doc)\n",
    "        for word in unique_words:\n",
    "            document_frequencies[word] = document_frequencies.get(word, 0) + 1\n",
    "            vocabulary_set.add(word)\n",
    "\n",
    "    # Step 2: Build sorted vocabulary\n",
    "    vocabulary = sorted(list(vocabulary_set))  # ensure consistent order\n",
    "    vocab_index = {word: idx for idx, word in enumerate(vocabulary)}\n",
    "\n",
    "    # Step 3: Compute IDF\n",
    "    inverse_document_frequency = {\n",
    "        word: math.log10(total_docs / (1 + document_frequencies[word]))\n",
    "        for word in vocabulary\n",
    "    }\n",
    "\n",
    "    # Step 4: Compute TF-IDF\n",
    "    tfidf_matrix = []\n",
    "    tfidf_dicts = []\n",
    "\n",
    "    for tf in term_frequencies:\n",
    "        tfidf_dict = {}\n",
    "        tfidf_vector = [0.0] * len(vocabulary)\n",
    "\n",
    "        for word in tf:\n",
    "            if word in inverse_document_frequency:\n",
    "                score = tf[word] * inverse_document_frequency[word]\n",
    "                tfidf_dict[word] = score\n",
    "                tfidf_vector[vocab_index[word]] = score\n",
    "\n",
    "        tfidf_matrix.append(tfidf_vector)\n",
    "        tfidf_dicts.append(tfidf_dict)\n",
    "\n",
    "    return tfidf_matrix, tfidf_dicts\n"
   ]
  },
  {
   "cell_type": "code",
   "execution_count": 42,
   "id": "c29eca11-0818-4ba3-97e6-843adc7c25cd",
   "metadata": {},
   "outputs": [],
   "source": [
    "paragraphs = [\n",
    "    \"The sky is clear and blue. It looks beautiful today.\",\n",
    "    \"The sun is shining brightly in the sky. It’s a warm day.\",\n",
    "    \"We can see the bright sun above the clear blue sky.\",\n",
    "    \"The weather is pleasant and the sun feels comforting.\"\n",
    "]\n"
   ]
  },
  {
   "cell_type": "code",
   "execution_count": 43,
   "id": "22f8a21d-c549-4bb5-8500-1511cbfa0bb0",
   "metadata": {},
   "outputs": [],
   "source": [
    "pre = preprocessParagraph(paragraphs)"
   ]
  },
  {
   "cell_type": "code",
   "execution_count": 44,
   "id": "2996efcc-573b-4a78-85d8-b731a70f7650",
   "metadata": {},
   "outputs": [
    {
     "data": {
      "text/plain": [
       "[{'beautiful': 0.050171665943996864,\n",
       "  'today': 0.050171665943996864,\n",
       "  'can': 0.0,\n",
       "  'blue': 0.020823122768049988,\n",
       "  'comfort': 0.0,\n",
       "  'sun': 0.0,\n",
       "  'see': 0.0,\n",
       "  'pleasant': 0.0,\n",
       "  'feel': 0.0,\n",
       "  'shin': 0.0,\n",
       "  'clear': 0.020823122768049988,\n",
       "  'warm': 0.0,\n",
       "  'look': 0.050171665943996864,\n",
       "  'sky': 0.0,\n",
       "  'bright': 0.0,\n",
       "  'brightly': 0.0,\n",
       "  'weather': 0.0,\n",
       "  'day': 0.0},\n",
       " {'beautiful': 0.0,\n",
       "  'today': 0.0,\n",
       "  'can': 0.0,\n",
       "  'blue': 0.0,\n",
       "  'comfort': 0.0,\n",
       "  'sun': 0.0,\n",
       "  'see': 0.0,\n",
       "  'pleasant': 0.0,\n",
       "  'feel': 0.0,\n",
       "  'shin': 0.050171665943996864,\n",
       "  'clear': 0.0,\n",
       "  'warm': 0.050171665943996864,\n",
       "  'look': 0.0,\n",
       "  'sky': 0.0,\n",
       "  'bright': 0.0,\n",
       "  'brightly': 0.050171665943996864,\n",
       "  'weather': 0.0,\n",
       "  'day': 0.050171665943996864},\n",
       " {'beautiful': 0.0,\n",
       "  'today': 0.0,\n",
       "  'can': 0.043004285094854454,\n",
       "  'blue': 0.017848390944042846,\n",
       "  'comfort': 0.0,\n",
       "  'sun': 0.0,\n",
       "  'see': 0.043004285094854454,\n",
       "  'pleasant': 0.0,\n",
       "  'feel': 0.0,\n",
       "  'shin': 0.0,\n",
       "  'clear': 0.017848390944042846,\n",
       "  'warm': 0.0,\n",
       "  'look': 0.0,\n",
       "  'sky': 0.0,\n",
       "  'bright': 0.043004285094854454,\n",
       "  'brightly': 0.0,\n",
       "  'weather': 0.0,\n",
       "  'day': 0.0},\n",
       " {'beautiful': 0.0,\n",
       "  'today': 0.0,\n",
       "  'can': 0.0,\n",
       "  'blue': 0.0,\n",
       "  'comfort': 0.06020599913279624,\n",
       "  'sun': 0.0,\n",
       "  'see': 0.0,\n",
       "  'pleasant': 0.06020599913279624,\n",
       "  'feel': 0.06020599913279624,\n",
       "  'shin': 0.0,\n",
       "  'clear': 0.0,\n",
       "  'warm': 0.0,\n",
       "  'look': 0.0,\n",
       "  'sky': 0.0,\n",
       "  'bright': 0.0,\n",
       "  'brightly': 0.0,\n",
       "  'weather': 0.06020599913279624,\n",
       "  'day': 0.0}]"
      ]
     },
     "execution_count": 44,
     "metadata": {},
     "output_type": "execute_result"
    }
   ],
   "source": [
    "compute_tfidf(paragraphs)"
   ]
  },
  {
   "cell_type": "code",
   "execution_count": 45,
   "id": "5ec05c63-4c2b-4d30-8b0f-d188c3ea0832",
   "metadata": {},
   "outputs": [],
   "source": [
    "import pandas as pd"
   ]
  },
  {
   "cell_type": "code",
   "execution_count": 46,
   "id": "53f09937-7923-4934-9a16-0075a4f8f494",
   "metadata": {},
   "outputs": [],
   "source": [
    "df = pd.read_csv('IMDB Dataset.csv')\n",
    "df['sentiment'] = df['sentiment'].map({'positive': 1, 'negative': 0})\n"
   ]
  },
  {
   "cell_type": "code",
   "execution_count": 47,
   "id": "c39236a0-edc8-42c1-bcab-4fa0b9495c1f",
   "metadata": {},
   "outputs": [
    {
     "data": {
      "text/html": [
       "<div>\n",
       "<style scoped>\n",
       "    .dataframe tbody tr th:only-of-type {\n",
       "        vertical-align: middle;\n",
       "    }\n",
       "\n",
       "    .dataframe tbody tr th {\n",
       "        vertical-align: top;\n",
       "    }\n",
       "\n",
       "    .dataframe thead th {\n",
       "        text-align: right;\n",
       "    }\n",
       "</style>\n",
       "<table border=\"1\" class=\"dataframe\">\n",
       "  <thead>\n",
       "    <tr style=\"text-align: right;\">\n",
       "      <th></th>\n",
       "      <th>review</th>\n",
       "      <th>sentiment</th>\n",
       "    </tr>\n",
       "  </thead>\n",
       "  <tbody>\n",
       "    <tr>\n",
       "      <th>0</th>\n",
       "      <td>One of the other reviewers has mentioned that ...</td>\n",
       "      <td>1</td>\n",
       "    </tr>\n",
       "    <tr>\n",
       "      <th>1</th>\n",
       "      <td>A wonderful little production. &lt;br /&gt;&lt;br /&gt;The...</td>\n",
       "      <td>1</td>\n",
       "    </tr>\n",
       "    <tr>\n",
       "      <th>2</th>\n",
       "      <td>I thought this was a wonderful way to spend ti...</td>\n",
       "      <td>1</td>\n",
       "    </tr>\n",
       "    <tr>\n",
       "      <th>3</th>\n",
       "      <td>Basically there's a family where a little boy ...</td>\n",
       "      <td>0</td>\n",
       "    </tr>\n",
       "    <tr>\n",
       "      <th>4</th>\n",
       "      <td>Petter Mattei's \"Love in the Time of Money\" is...</td>\n",
       "      <td>1</td>\n",
       "    </tr>\n",
       "    <tr>\n",
       "      <th>...</th>\n",
       "      <td>...</td>\n",
       "      <td>...</td>\n",
       "    </tr>\n",
       "    <tr>\n",
       "      <th>49995</th>\n",
       "      <td>I thought this movie did a down right good job...</td>\n",
       "      <td>1</td>\n",
       "    </tr>\n",
       "    <tr>\n",
       "      <th>49996</th>\n",
       "      <td>Bad plot, bad dialogue, bad acting, idiotic di...</td>\n",
       "      <td>0</td>\n",
       "    </tr>\n",
       "    <tr>\n",
       "      <th>49997</th>\n",
       "      <td>I am a Catholic taught in parochial elementary...</td>\n",
       "      <td>0</td>\n",
       "    </tr>\n",
       "    <tr>\n",
       "      <th>49998</th>\n",
       "      <td>I'm going to have to disagree with the previou...</td>\n",
       "      <td>0</td>\n",
       "    </tr>\n",
       "    <tr>\n",
       "      <th>49999</th>\n",
       "      <td>No one expects the Star Trek movies to be high...</td>\n",
       "      <td>0</td>\n",
       "    </tr>\n",
       "  </tbody>\n",
       "</table>\n",
       "<p>50000 rows × 2 columns</p>\n",
       "</div>"
      ],
      "text/plain": [
       "                                                  review  sentiment\n",
       "0      One of the other reviewers has mentioned that ...          1\n",
       "1      A wonderful little production. <br /><br />The...          1\n",
       "2      I thought this was a wonderful way to spend ti...          1\n",
       "3      Basically there's a family where a little boy ...          0\n",
       "4      Petter Mattei's \"Love in the Time of Money\" is...          1\n",
       "...                                                  ...        ...\n",
       "49995  I thought this movie did a down right good job...          1\n",
       "49996  Bad plot, bad dialogue, bad acting, idiotic di...          0\n",
       "49997  I am a Catholic taught in parochial elementary...          0\n",
       "49998  I'm going to have to disagree with the previou...          0\n",
       "49999  No one expects the Star Trek movies to be high...          0\n",
       "\n",
       "[50000 rows x 2 columns]"
      ]
     },
     "execution_count": 47,
     "metadata": {},
     "output_type": "execute_result"
    }
   ],
   "source": [
    "df"
   ]
  },
  {
   "cell_type": "code",
   "execution_count": 67,
   "id": "c370aa80-3e20-4f5f-b946-763be16a0c18",
   "metadata": {},
   "outputs": [],
   "source": [
    "from sklearn.model_selection import train_test_split\n",
    "\n",
    "X_train, X_test, y_train, y_test = train_test_split(df['review'], df['sentiment'], test_size=0.2, random_state=42)"
   ]
  },
  {
   "cell_type": "code",
   "execution_count": null,
   "id": "efb3c400-3beb-4c72-b3c2-21e02a41ccce",
   "metadata": {},
   "outputs": [],
   "source": [
    "review,_= compute_tfidf(X_train[:1000])"
   ]
  },
  {
   "cell_type": "code",
   "execution_count": 61,
   "id": "e2d1e671-41ae-40af-947c-8da30616a3c1",
   "metadata": {},
   "outputs": [],
   "source": [
    "# reviews = compute_tfidf(X_train)"
   ]
  },
  {
   "cell_type": "code",
   "execution_count": 76,
   "id": "b14b0a2d-61f6-405e-9b91-40695d8dc88e",
   "metadata": {},
   "outputs": [],
   "source": [
    "from sklearn.naive_bayes import MultinomialNB\n"
   ]
  },
  {
   "cell_type": "code",
   "execution_count": 77,
   "id": "7b2d8d6a-45e9-4fc0-abae-2507d5f2eabd",
   "metadata": {},
   "outputs": [
    {
     "data": {
      "text/html": [
       "<style>#sk-container-id-1 {color: black;}#sk-container-id-1 pre{padding: 0;}#sk-container-id-1 div.sk-toggleable {background-color: white;}#sk-container-id-1 label.sk-toggleable__label {cursor: pointer;display: block;width: 100%;margin-bottom: 0;padding: 0.3em;box-sizing: border-box;text-align: center;}#sk-container-id-1 label.sk-toggleable__label-arrow:before {content: \"▸\";float: left;margin-right: 0.25em;color: #696969;}#sk-container-id-1 label.sk-toggleable__label-arrow:hover:before {color: black;}#sk-container-id-1 div.sk-estimator:hover label.sk-toggleable__label-arrow:before {color: black;}#sk-container-id-1 div.sk-toggleable__content {max-height: 0;max-width: 0;overflow: hidden;text-align: left;background-color: #f0f8ff;}#sk-container-id-1 div.sk-toggleable__content pre {margin: 0.2em;color: black;border-radius: 0.25em;background-color: #f0f8ff;}#sk-container-id-1 input.sk-toggleable__control:checked~div.sk-toggleable__content {max-height: 200px;max-width: 100%;overflow: auto;}#sk-container-id-1 input.sk-toggleable__control:checked~label.sk-toggleable__label-arrow:before {content: \"▾\";}#sk-container-id-1 div.sk-estimator input.sk-toggleable__control:checked~label.sk-toggleable__label {background-color: #d4ebff;}#sk-container-id-1 div.sk-label input.sk-toggleable__control:checked~label.sk-toggleable__label {background-color: #d4ebff;}#sk-container-id-1 input.sk-hidden--visually {border: 0;clip: rect(1px 1px 1px 1px);clip: rect(1px, 1px, 1px, 1px);height: 1px;margin: -1px;overflow: hidden;padding: 0;position: absolute;width: 1px;}#sk-container-id-1 div.sk-estimator {font-family: monospace;background-color: #f0f8ff;border: 1px dotted black;border-radius: 0.25em;box-sizing: border-box;margin-bottom: 0.5em;}#sk-container-id-1 div.sk-estimator:hover {background-color: #d4ebff;}#sk-container-id-1 div.sk-parallel-item::after {content: \"\";width: 100%;border-bottom: 1px solid gray;flex-grow: 1;}#sk-container-id-1 div.sk-label:hover label.sk-toggleable__label {background-color: #d4ebff;}#sk-container-id-1 div.sk-serial::before {content: \"\";position: absolute;border-left: 1px solid gray;box-sizing: border-box;top: 0;bottom: 0;left: 50%;z-index: 0;}#sk-container-id-1 div.sk-serial {display: flex;flex-direction: column;align-items: center;background-color: white;padding-right: 0.2em;padding-left: 0.2em;position: relative;}#sk-container-id-1 div.sk-item {position: relative;z-index: 1;}#sk-container-id-1 div.sk-parallel {display: flex;align-items: stretch;justify-content: center;background-color: white;position: relative;}#sk-container-id-1 div.sk-item::before, #sk-container-id-1 div.sk-parallel-item::before {content: \"\";position: absolute;border-left: 1px solid gray;box-sizing: border-box;top: 0;bottom: 0;left: 50%;z-index: -1;}#sk-container-id-1 div.sk-parallel-item {display: flex;flex-direction: column;z-index: 1;position: relative;background-color: white;}#sk-container-id-1 div.sk-parallel-item:first-child::after {align-self: flex-end;width: 50%;}#sk-container-id-1 div.sk-parallel-item:last-child::after {align-self: flex-start;width: 50%;}#sk-container-id-1 div.sk-parallel-item:only-child::after {width: 0;}#sk-container-id-1 div.sk-dashed-wrapped {border: 1px dashed gray;margin: 0 0.4em 0.5em 0.4em;box-sizing: border-box;padding-bottom: 0.4em;background-color: white;}#sk-container-id-1 div.sk-label label {font-family: monospace;font-weight: bold;display: inline-block;line-height: 1.2em;}#sk-container-id-1 div.sk-label-container {text-align: center;}#sk-container-id-1 div.sk-container {/* jupyter's `normalize.less` sets `[hidden] { display: none; }` but bootstrap.min.css set `[hidden] { display: none !important; }` so we also need the `!important` here to be able to override the default hidden behavior on the sphinx rendered scikit-learn.org. See: https://github.com/scikit-learn/scikit-learn/issues/21755 */display: inline-block !important;position: relative;}#sk-container-id-1 div.sk-text-repr-fallback {display: none;}</style><div id=\"sk-container-id-1\" class=\"sk-top-container\"><div class=\"sk-text-repr-fallback\"><pre>MultinomialNB()</pre><b>In a Jupyter environment, please rerun this cell to show the HTML representation or trust the notebook. <br />On GitHub, the HTML representation is unable to render, please try loading this page with nbviewer.org.</b></div><div class=\"sk-container\" hidden><div class=\"sk-item\"><div class=\"sk-estimator sk-toggleable\"><input class=\"sk-toggleable__control sk-hidden--visually\" id=\"sk-estimator-id-1\" type=\"checkbox\" checked><label for=\"sk-estimator-id-1\" class=\"sk-toggleable__label sk-toggleable__label-arrow\">MultinomialNB</label><div class=\"sk-toggleable__content\"><pre>MultinomialNB()</pre></div></div></div></div></div>"
      ],
      "text/plain": [
       "MultinomialNB()"
      ]
     },
     "execution_count": 77,
     "metadata": {},
     "output_type": "execute_result"
    }
   ],
   "source": [
    "model = MultinomialNB()\n",
    "model.fit(review, y_train[:1000])"
   ]
  },
  {
   "cell_type": "code",
   "execution_count": 84,
   "id": "da16da04-2a1b-483c-9fba-6923f2090c87",
   "metadata": {},
   "outputs": [
    {
     "data": {
      "text/html": [
       "<style>#sk-container-id-3 {color: black;}#sk-container-id-3 pre{padding: 0;}#sk-container-id-3 div.sk-toggleable {background-color: white;}#sk-container-id-3 label.sk-toggleable__label {cursor: pointer;display: block;width: 100%;margin-bottom: 0;padding: 0.3em;box-sizing: border-box;text-align: center;}#sk-container-id-3 label.sk-toggleable__label-arrow:before {content: \"▸\";float: left;margin-right: 0.25em;color: #696969;}#sk-container-id-3 label.sk-toggleable__label-arrow:hover:before {color: black;}#sk-container-id-3 div.sk-estimator:hover label.sk-toggleable__label-arrow:before {color: black;}#sk-container-id-3 div.sk-toggleable__content {max-height: 0;max-width: 0;overflow: hidden;text-align: left;background-color: #f0f8ff;}#sk-container-id-3 div.sk-toggleable__content pre {margin: 0.2em;color: black;border-radius: 0.25em;background-color: #f0f8ff;}#sk-container-id-3 input.sk-toggleable__control:checked~div.sk-toggleable__content {max-height: 200px;max-width: 100%;overflow: auto;}#sk-container-id-3 input.sk-toggleable__control:checked~label.sk-toggleable__label-arrow:before {content: \"▾\";}#sk-container-id-3 div.sk-estimator input.sk-toggleable__control:checked~label.sk-toggleable__label {background-color: #d4ebff;}#sk-container-id-3 div.sk-label input.sk-toggleable__control:checked~label.sk-toggleable__label {background-color: #d4ebff;}#sk-container-id-3 input.sk-hidden--visually {border: 0;clip: rect(1px 1px 1px 1px);clip: rect(1px, 1px, 1px, 1px);height: 1px;margin: -1px;overflow: hidden;padding: 0;position: absolute;width: 1px;}#sk-container-id-3 div.sk-estimator {font-family: monospace;background-color: #f0f8ff;border: 1px dotted black;border-radius: 0.25em;box-sizing: border-box;margin-bottom: 0.5em;}#sk-container-id-3 div.sk-estimator:hover {background-color: #d4ebff;}#sk-container-id-3 div.sk-parallel-item::after {content: \"\";width: 100%;border-bottom: 1px solid gray;flex-grow: 1;}#sk-container-id-3 div.sk-label:hover label.sk-toggleable__label {background-color: #d4ebff;}#sk-container-id-3 div.sk-serial::before {content: \"\";position: absolute;border-left: 1px solid gray;box-sizing: border-box;top: 0;bottom: 0;left: 50%;z-index: 0;}#sk-container-id-3 div.sk-serial {display: flex;flex-direction: column;align-items: center;background-color: white;padding-right: 0.2em;padding-left: 0.2em;position: relative;}#sk-container-id-3 div.sk-item {position: relative;z-index: 1;}#sk-container-id-3 div.sk-parallel {display: flex;align-items: stretch;justify-content: center;background-color: white;position: relative;}#sk-container-id-3 div.sk-item::before, #sk-container-id-3 div.sk-parallel-item::before {content: \"\";position: absolute;border-left: 1px solid gray;box-sizing: border-box;top: 0;bottom: 0;left: 50%;z-index: -1;}#sk-container-id-3 div.sk-parallel-item {display: flex;flex-direction: column;z-index: 1;position: relative;background-color: white;}#sk-container-id-3 div.sk-parallel-item:first-child::after {align-self: flex-end;width: 50%;}#sk-container-id-3 div.sk-parallel-item:last-child::after {align-self: flex-start;width: 50%;}#sk-container-id-3 div.sk-parallel-item:only-child::after {width: 0;}#sk-container-id-3 div.sk-dashed-wrapped {border: 1px dashed gray;margin: 0 0.4em 0.5em 0.4em;box-sizing: border-box;padding-bottom: 0.4em;background-color: white;}#sk-container-id-3 div.sk-label label {font-family: monospace;font-weight: bold;display: inline-block;line-height: 1.2em;}#sk-container-id-3 div.sk-label-container {text-align: center;}#sk-container-id-3 div.sk-container {/* jupyter's `normalize.less` sets `[hidden] { display: none; }` but bootstrap.min.css set `[hidden] { display: none !important; }` so we also need the `!important` here to be able to override the default hidden behavior on the sphinx rendered scikit-learn.org. See: https://github.com/scikit-learn/scikit-learn/issues/21755 */display: inline-block !important;position: relative;}#sk-container-id-3 div.sk-text-repr-fallback {display: none;}</style><div id=\"sk-container-id-3\" class=\"sk-top-container\"><div class=\"sk-text-repr-fallback\"><pre>MultinomialNB()</pre><b>In a Jupyter environment, please rerun this cell to show the HTML representation or trust the notebook. <br />On GitHub, the HTML representation is unable to render, please try loading this page with nbviewer.org.</b></div><div class=\"sk-container\" hidden><div class=\"sk-item\"><div class=\"sk-estimator sk-toggleable\"><input class=\"sk-toggleable__control sk-hidden--visually\" id=\"sk-estimator-id-3\" type=\"checkbox\" checked><label for=\"sk-estimator-id-3\" class=\"sk-toggleable__label sk-toggleable__label-arrow\">MultinomialNB</label><div class=\"sk-toggleable__content\"><pre>MultinomialNB()</pre></div></div></div></div></div>"
      ],
      "text/plain": [
       "MultinomialNB()"
      ]
     },
     "execution_count": 84,
     "metadata": {},
     "output_type": "execute_result"
    }
   ],
   "source": [
    "model.fit(review, y_train[:1000])"
   ]
  },
  {
   "cell_type": "code",
   "execution_count": null,
   "id": "7e9abf85-b94b-4b1d-a94e-3b2e1f582f0d",
   "metadata": {},
   "outputs": [],
   "source": []
  }
 ],
 "metadata": {
  "kernelspec": {
   "display_name": "Python 3 (ipykernel)",
   "language": "python",
   "name": "python3"
  },
  "language_info": {
   "codemirror_mode": {
    "name": "ipython",
    "version": 3
   },
   "file_extension": ".py",
   "mimetype": "text/x-python",
   "name": "python",
   "nbconvert_exporter": "python",
   "pygments_lexer": "ipython3",
   "version": "3.8.10"
  }
 },
 "nbformat": 4,
 "nbformat_minor": 5
}
